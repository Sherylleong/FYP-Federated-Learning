{
 "cells": [
  {
   "cell_type": "code",
   "execution_count": null,
   "id": "49993f0a",
   "metadata": {},
   "outputs": [],
   "source": [
    "model_path = r'..\\models\\fl_fedavg\\effnet-b0\\ff_effnet0_1fc_fl.pth'\n",
    "image_path = r'test_deepfake.png'\n",
    "image_path = r'test_original.png'\n",
    "\n",
    "\n",
    "import torch\n",
    "from torchvision import models, transforms\n",
    "from PIL import Image\n",
    "import requests\n",
    "from io import BytesIO\n",
    "from efficientnet_pytorch import EfficientNet\n",
    "from facenet_pytorch import MTCNN\n",
    "from PIL import Image\n",
    "import timm\n",
    "\n",
    "device = 'cuda'\n",
    "\n",
    "model = EfficientNet.from_pretrained('efficientnet-b0', num_classes=1)\n",
    "# model = timm.create_model('xception', pretrained=True, num_classes=1)\n",
    "model.load_state_dict(torch.load(model_path)['model_state'])\n",
    "model.to(device)\n",
    "model.eval() \n"
   ]
  },
  {
   "cell_type": "code",
   "execution_count": null,
   "id": "7a9e7519",
   "metadata": {},
   "outputs": [],
   "source": [
    "IMG_SIZE = 224\n",
    "\n",
    "\n",
    "mean = (0.485, 0.456, 0.406)\n",
    "std = (0.229, 0.224, 0.225)\n",
    "\n",
    "class ImageTransform:\n",
    "    def __init__(self, size, mean, std, train=False):\n",
    "        self.data_transform = transforms.Compose([\n",
    "            transforms.Resize((size, size), interpolation=Image.BILINEAR),\n",
    "            transforms.ToTensor(),\n",
    "            transforms.Normalize(mean, std)\n",
    "        ])\n",
    "\n",
    "    def __call__(self, img):\n",
    "        return self.data_transform(img)\n",
    "\n",
    "\n",
    "\n",
    "transformer = ImageTransform(IMG_SIZE, mean, std, train=False)"
   ]
  },
  {
   "cell_type": "code",
   "execution_count": null,
   "id": "ba93cc54",
   "metadata": {},
   "outputs": [
    {
     "name": "stderr",
     "output_type": "stream",
     "text": [
      "c:\\Users\\Sheryl\\AppData\\Local\\Programs\\Python\\Python312\\Lib\\site-packages\\facenet_pytorch\\models\\mtcnn.py:34: FutureWarning: You are using `torch.load` with `weights_only=False` (the current default value), which uses the default pickle module implicitly. It is possible to construct malicious pickle data which will execute arbitrary code during unpickling (See https://github.com/pytorch/pytorch/blob/main/SECURITY.md#untrusted-models for more details). In a future release, the default value for `weights_only` will be flipped to `True`. This limits the functions that could be executed during unpickling. Arbitrary objects will no longer be allowed to be loaded via this mode unless they are explicitly allowlisted by the user via `torch.serialization.add_safe_globals`. We recommend you start setting `weights_only=True` for any use case where you don't have full control of the loaded file. Please open an issue on GitHub for any issues related to this experimental feature.\n",
      "  state_dict = torch.load(state_dict_path)\n",
      "c:\\Users\\Sheryl\\AppData\\Local\\Programs\\Python\\Python312\\Lib\\site-packages\\facenet_pytorch\\models\\mtcnn.py:79: FutureWarning: You are using `torch.load` with `weights_only=False` (the current default value), which uses the default pickle module implicitly. It is possible to construct malicious pickle data which will execute arbitrary code during unpickling (See https://github.com/pytorch/pytorch/blob/main/SECURITY.md#untrusted-models for more details). In a future release, the default value for `weights_only` will be flipped to `True`. This limits the functions that could be executed during unpickling. Arbitrary objects will no longer be allowed to be loaded via this mode unless they are explicitly allowlisted by the user via `torch.serialization.add_safe_globals`. We recommend you start setting `weights_only=True` for any use case where you don't have full control of the loaded file. Please open an issue on GitHub for any issues related to this experimental feature.\n",
      "  state_dict = torch.load(state_dict_path)\n",
      "c:\\Users\\Sheryl\\AppData\\Local\\Programs\\Python\\Python312\\Lib\\site-packages\\facenet_pytorch\\models\\mtcnn.py:132: FutureWarning: You are using `torch.load` with `weights_only=False` (the current default value), which uses the default pickle module implicitly. It is possible to construct malicious pickle data which will execute arbitrary code during unpickling (See https://github.com/pytorch/pytorch/blob/main/SECURITY.md#untrusted-models for more details). In a future release, the default value for `weights_only` will be flipped to `True`. This limits the functions that could be executed during unpickling. Arbitrary objects will no longer be allowed to be loaded via this mode unless they are explicitly allowlisted by the user via `torch.serialization.add_safe_globals`. We recommend you start setting `weights_only=True` for any use case where you don't have full control of the loaded file. Please open an issue on GitHub for any issues related to this experimental feature.\n",
      "  state_dict = torch.load(state_dict_path)\n"
     ]
    },
    {
     "name": "stdout",
     "output_type": "stream",
     "text": [
      "Loaded pretrained weights for efficientnet-b0\n",
      "Number of faces detected: 1\n",
      "Face 1: [361.0030822753906 89.38159942626953 483.9775695800781 259.80963134765625] 0.9998471736907959\n"
     ]
    },
    {
     "name": "stderr",
     "output_type": "stream",
     "text": [
      "C:\\Users\\Sheryl\\AppData\\Local\\Temp\\ipykernel_14776\\1760510307.py:7: FutureWarning: You are using `torch.load` with `weights_only=False` (the current default value), which uses the default pickle module implicitly. It is possible to construct malicious pickle data which will execute arbitrary code during unpickling (See https://github.com/pytorch/pytorch/blob/main/SECURITY.md#untrusted-models for more details). In a future release, the default value for `weights_only` will be flipped to `True`. This limits the functions that could be executed during unpickling. Arbitrary objects will no longer be allowed to be loaded via this mode unless they are explicitly allowlisted by the user via `torch.serialization.add_safe_globals`. We recommend you start setting `weights_only=True` for any use case where you don't have full control of the loaded file. Please open an issue on GitHub for any issues related to this experimental feature.\n",
      "  model.load_state_dict(torch.load(model_path)['model_state'])\n"
     ]
    },
    {
     "name": "stdout",
     "output_type": "stream",
     "text": [
      "0.5730893015861511\n",
      "Face 1: Predicted class index = 1 Pristine\n"
     ]
    }
   ],
   "source": [
    "\n",
    "img = Image.open(image_path).convert('RGB')\n",
    "mtcnn = MTCNN(margin=300, select_largest=False, factor=0.5, device=device, post_process=False) # post_process=False if want human readable image\n",
    "\n",
    "boxes, probs = mtcnn.detect(img)\n",
    "\n",
    "\n",
    "if boxes is not None:\n",
    "    print(f\"Number of faces detected: {boxes.shape[0]}\")\n",
    "\n",
    "    for i, box in enumerate(boxes):\n",
    "        print(f\"Face {i + 1}: {box} {probs[i]}\")\n",
    "\n",
    "        face = img.crop((box[0], box[1], box[2], box[3]))\n",
    "        \n",
    "        face.show() \n",
    "\n",
    "        face_tensor = transformer(face).unsqueeze(0).to(device)  \n",
    "\n",
    "        with torch.no_grad():\n",
    "            output = torch.sigmoid(model(face_tensor))\n",
    "            prob = output.item()  # get float value\n",
    "            print(prob)\n",
    "            predicted_class = int(prob > 0.5)  # higher prob means more likely original\n",
    "            is_deepfake = 'Pristine' if predicted_class else 'Deepfake'\n",
    "            print(f\"Face {i+1}: Predicted class index = {predicted_class} {is_deepfake}\")\n",
    "\n",
    "else:\n",
    "    print(\"No faces detected.\")"
   ]
  }
 ],
 "metadata": {
  "kernelspec": {
   "display_name": "Python 3",
   "language": "python",
   "name": "python3"
  },
  "language_info": {
   "codemirror_mode": {
    "name": "ipython",
    "version": 3
   },
   "file_extension": ".py",
   "mimetype": "text/x-python",
   "name": "python",
   "nbconvert_exporter": "python",
   "pygments_lexer": "ipython3",
   "version": "3.12.6"
  }
 },
 "nbformat": 4,
 "nbformat_minor": 5
}
